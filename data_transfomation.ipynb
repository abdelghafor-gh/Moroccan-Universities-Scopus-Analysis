{
 "cells": [
  {
   "cell_type": "markdown",
   "metadata": {},
   "source": [
    "#### Read csv"
   ]
  },
  {
   "cell_type": "code",
   "execution_count": 101,
   "metadata": {},
   "outputs": [],
   "source": [
    "import pandas as pd\n",
    "import json\n",
    "import re"
   ]
  },
  {
   "cell_type": "code",
   "execution_count": 3,
   "metadata": {},
   "outputs": [],
   "source": [
    "df = pd.read_csv('data/test.csv')"
   ]
  },
  {
   "cell_type": "code",
   "execution_count": 4,
   "metadata": {},
   "outputs": [
    {
     "data": {
      "text/plain": [
       "Index(['Authors', 'Author full names', 'Author(s) ID', 'Title', 'Year',\n",
       "       'Source title', 'Cited by', 'DOI', 'Link', 'Affiliations',\n",
       "       'Authors with affiliations', 'Author Keywords', 'Index Keywords',\n",
       "       'Editors', 'Publisher', 'ISSN', 'ISBN', 'CODEN', 'PubMed ID',\n",
       "       'Language of Original Document', 'Document Type', 'Source', 'EID'],\n",
       "      dtype='object')"
      ]
     },
     "execution_count": 4,
     "metadata": {},
     "output_type": "execute_result"
    }
   ],
   "source": [
    "df.columns"
   ]
  },
  {
   "cell_type": "code",
   "execution_count": 126,
   "metadata": {},
   "outputs": [],
   "source": [
    "# Function to extract IDs between parentheses\n",
    "def extract_ids(text):\n",
    "    return re.findall(r'\\((\\d+)\\)', text)"
   ]
  },
  {
   "cell_type": "code",
   "execution_count": 133,
   "metadata": {},
   "outputs": [],
   "source": [
    "# Load the cities dictionary from the JSON file\n",
    "with open('cities_mapping.json', 'r', encoding='utf-8') as json_file:\n",
    "    cities_mapping = json.load(json_file)\n",
    "# cities_mapping"
   ]
  },
  {
   "cell_type": "code",
   "execution_count": 134,
   "metadata": {},
   "outputs": [],
   "source": [
    "def extract_city_name(affiliation_full_name):\n",
    "    \n",
    "    # for each key in the dict, if the key exists return the value\n",
    "    for key, value in cities_mapping.items():\n",
    "        if key in affiliation_full_name.lower():\n",
    "            return value\n",
    "    \n",
    "    return None"
   ]
  },
  {
   "cell_type": "code",
   "execution_count": 135,
   "metadata": {},
   "outputs": [],
   "source": [
    "def extract_country_name(affiliation_full_name):\n",
    "    try:\n",
    "        parts = affiliation_full_name.split(',')\n",
    "        country = parts[-1].strip().lower()\n",
    "        return country\n",
    "    except:\n",
    "        return None"
   ]
  },
  {
   "cell_type": "code",
   "execution_count": 136,
   "metadata": {},
   "outputs": [],
   "source": [
    "def duplicate_rows_by_author(df):\n",
    "    new_df = pd.DataFrame(columns=[\"author_id\", \"author_name\", \"affiliation_full_name\", \"city\", \"country\"])\n",
    "\n",
    "    for _, row in df.iterrows():\n",
    "        authors_with_ids = row[\"Author full names\"].split(';')\n",
    "        authors_with_affiliations = row[\"Affiliations\"].split(';')\n",
    "        ids, author_names, affiliations, cities, countries = [], [], [], [], []\n",
    "        \n",
    "        for auth_id_name, aff in zip(authors_with_ids, authors_with_affiliations):\n",
    "            # extract author name\n",
    "            name_pattern = r\"[A-Za-záéíóúÁÉÍÓÚñÑ]+,\\s[A-Za-záéíóúÁÉÍÓÚñÑ]+\"\n",
    "            name_match = re.search(name_pattern, auth_id_name)\n",
    "            # author_name = auth_id.split('.')[0].strip()\n",
    "\n",
    "            # extract id\n",
    "            id_match = re.search(r'\\((\\d+)\\)', auth_id_name)\n",
    "            if id_match and name_match:\n",
    "                author_id = id_match.group(1)\n",
    "                author_name = name_match.group()\n",
    "            else:\n",
    "                continue\n",
    "\n",
    "            # extract city and country\n",
    "            city = extract_city_name(aff)\n",
    "            country = extract_country_name(aff)\n",
    "            if country not in [\"morocco\", \"maroc\"]:\n",
    "                continue\n",
    "\n",
    "            ids.append(author_id)\n",
    "            author_names.append(author_name)\n",
    "            affiliations.append(aff)\n",
    "            cities.append(city)\n",
    "            # cities1.append(city1)\n",
    "            countries.append(country)\n",
    "\n",
    "        data = pd.DataFrame({\n",
    "            \"author_id\": ids,\n",
    "            \"author_name\": author_names,\n",
    "            \"affiliation_full_name\": affiliations,\n",
    "            \"city\": cities,\n",
    "            \"country\": countries\n",
    "        })\n",
    "\n",
    "        new_df = pd.concat([new_df, data], ignore_index=True)\n",
    "        \n",
    "    return new_df"
   ]
  },
  {
   "cell_type": "code",
   "execution_count": 137,
   "metadata": {},
   "outputs": [
    {
     "data": {
      "text/html": [
       "<div>\n",
       "<style scoped>\n",
       "    .dataframe tbody tr th:only-of-type {\n",
       "        vertical-align: middle;\n",
       "    }\n",
       "\n",
       "    .dataframe tbody tr th {\n",
       "        vertical-align: top;\n",
       "    }\n",
       "\n",
       "    .dataframe thead th {\n",
       "        text-align: right;\n",
       "    }\n",
       "</style>\n",
       "<table border=\"1\" class=\"dataframe\">\n",
       "  <thead>\n",
       "    <tr style=\"text-align: right;\">\n",
       "      <th></th>\n",
       "      <th>author_id</th>\n",
       "      <th>author_name</th>\n",
       "      <th>affiliation_full_name</th>\n",
       "      <th>city</th>\n",
       "      <th>country</th>\n",
       "    </tr>\n",
       "  </thead>\n",
       "  <tbody>\n",
       "    <tr>\n",
       "      <th>0</th>\n",
       "      <td>23004567900</td>\n",
       "      <td>Khachane, M</td>\n",
       "      <td>Laboratoire de Chimie du Solide Minéral, dépar...</td>\n",
       "      <td>Marrakech</td>\n",
       "      <td>morocco</td>\n",
       "    </tr>\n",
       "    <tr>\n",
       "      <th>1</th>\n",
       "      <td>6701835701</td>\n",
       "      <td>Villain, S</td>\n",
       "      <td>Laboratoire de physique du Solide et couches ...</td>\n",
       "      <td>Marrakech</td>\n",
       "      <td>morocco</td>\n",
       "    </tr>\n",
       "    <tr>\n",
       "      <th>2</th>\n",
       "      <td>12782205700</td>\n",
       "      <td>Mjahed, Mostafa</td>\n",
       "      <td>Ecole Royale de l'Air, Maths and Systems Dept....</td>\n",
       "      <td>Marrakech</td>\n",
       "      <td>morocco</td>\n",
       "    </tr>\n",
       "    <tr>\n",
       "      <th>3</th>\n",
       "      <td>56698346700</td>\n",
       "      <td>Sáenz, L</td>\n",
       "      <td>Departement de Biologie, Université Ibn Tofaï...</td>\n",
       "      <td>Kénitra</td>\n",
       "      <td>morocco</td>\n",
       "    </tr>\n",
       "    <tr>\n",
       "      <th>4</th>\n",
       "      <td>56615820600</td>\n",
       "      <td>Bahi, S</td>\n",
       "      <td>Mohammed v University, Faculty of Sciences, Ra...</td>\n",
       "      <td>Rabat</td>\n",
       "      <td>morocco</td>\n",
       "    </tr>\n",
       "    <tr>\n",
       "      <th>...</th>\n",
       "      <td>...</td>\n",
       "      <td>...</td>\n",
       "      <td>...</td>\n",
       "      <td>...</td>\n",
       "      <td>...</td>\n",
       "    </tr>\n",
       "    <tr>\n",
       "      <th>150</th>\n",
       "      <td>23978044400</td>\n",
       "      <td>Elghazi, Haddou</td>\n",
       "      <td>Solid State Physics Laboratory, Faculty of Sci...</td>\n",
       "      <td>Fès</td>\n",
       "      <td>morocco</td>\n",
       "    </tr>\n",
       "    <tr>\n",
       "      <th>151</th>\n",
       "      <td>7006857659</td>\n",
       "      <td>Jorio, Anouar</td>\n",
       "      <td>Regional Center of Interface, Sidi Mohammed B...</td>\n",
       "      <td>Fès</td>\n",
       "      <td>morocco</td>\n",
       "    </tr>\n",
       "    <tr>\n",
       "      <th>152</th>\n",
       "      <td>12239828500</td>\n",
       "      <td>Ouarsal, Rachid</td>\n",
       "      <td>Laboratoire DIngénierie des Matériaux Organom...</td>\n",
       "      <td>None</td>\n",
       "      <td>morocco</td>\n",
       "    </tr>\n",
       "    <tr>\n",
       "      <th>153</th>\n",
       "      <td>8415913200</td>\n",
       "      <td>Bali, Brahim</td>\n",
       "      <td>Department of Chemistry, Faculty of Sciences,...</td>\n",
       "      <td>Oujda</td>\n",
       "      <td>morocco</td>\n",
       "    </tr>\n",
       "    <tr>\n",
       "      <th>154</th>\n",
       "      <td>19638592600</td>\n",
       "      <td>Amrani, Mahacine</td>\n",
       "      <td>Département de Génie Chimique, Faculté des Sci...</td>\n",
       "      <td>Tanger</td>\n",
       "      <td>morocco</td>\n",
       "    </tr>\n",
       "  </tbody>\n",
       "</table>\n",
       "<p>155 rows × 5 columns</p>\n",
       "</div>"
      ],
      "text/plain": [
       "       author_id       author_name  \\\n",
       "0    23004567900       Khachane, M   \n",
       "1     6701835701        Villain, S   \n",
       "2    12782205700   Mjahed, Mostafa   \n",
       "3    56698346700          Sáenz, L   \n",
       "4    56615820600           Bahi, S   \n",
       "..           ...               ...   \n",
       "150  23978044400   Elghazi, Haddou   \n",
       "151   7006857659     Jorio, Anouar   \n",
       "152  12239828500   Ouarsal, Rachid   \n",
       "153   8415913200      Bali, Brahim   \n",
       "154  19638592600  Amrani, Mahacine   \n",
       "\n",
       "                                 affiliation_full_name       city  country  \n",
       "0    Laboratoire de Chimie du Solide Minéral, dépar...  Marrakech  morocco  \n",
       "1     Laboratoire de physique du Solide et couches ...  Marrakech  morocco  \n",
       "2    Ecole Royale de l'Air, Maths and Systems Dept....  Marrakech  morocco  \n",
       "3     Departement de Biologie, Université Ibn Tofaï...    Kénitra  morocco  \n",
       "4    Mohammed v University, Faculty of Sciences, Ra...      Rabat  morocco  \n",
       "..                                                 ...        ...      ...  \n",
       "150  Solid State Physics Laboratory, Faculty of Sci...        Fès  morocco  \n",
       "151   Regional Center of Interface, Sidi Mohammed B...        Fès  morocco  \n",
       "152   Laboratoire DIngénierie des Matériaux Organom...       None  morocco  \n",
       "153   Department of Chemistry, Faculty of Sciences,...      Oujda  morocco  \n",
       "154  Département de Génie Chimique, Faculté des Sci...     Tanger  morocco  \n",
       "\n",
       "[155 rows x 5 columns]"
      ]
     },
     "execution_count": 137,
     "metadata": {},
     "output_type": "execute_result"
    }
   ],
   "source": [
    "trans_df = duplicate_rows_by_author(df)\n",
    "trans_df.to_csv(\"metadata.csv\", index=False)\n",
    "trans_df"
   ]
  }
 ],
 "metadata": {
  "kernelspec": {
   "display_name": ".venv",
   "language": "python",
   "name": "python3"
  },
  "language_info": {
   "codemirror_mode": {
    "name": "ipython",
    "version": 3
   },
   "file_extension": ".py",
   "mimetype": "text/x-python",
   "name": "python",
   "nbconvert_exporter": "python",
   "pygments_lexer": "ipython3",
   "version": "3.10.2"
  }
 },
 "nbformat": 4,
 "nbformat_minor": 2
}
