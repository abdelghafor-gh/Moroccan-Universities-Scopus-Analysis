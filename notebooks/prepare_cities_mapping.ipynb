{
 "cells": [
  {
   "cell_type": "code",
   "execution_count": 1,
   "metadata": {},
   "outputs": [],
   "source": [
    "import pandas as pd\n",
    "import re"
   ]
  },
  {
   "cell_type": "code",
   "execution_count": null,
   "metadata": {},
   "outputs": [],
   "source": [
    "affiliations_df = pd.read_csv('../data/raw/Universities-Affiliations/Moroccan-Affiliations.csv')"
   ]
  },
  {
   "cell_type": "code",
   "execution_count": 3,
   "metadata": {},
   "outputs": [],
   "source": [
    "french_city_names = affiliations_df['City'].apply(lambda x: x.strip()).unique().tolist()"
   ]
  },
  {
   "cell_type": "code",
   "execution_count": 6,
   "metadata": {},
   "outputs": [],
   "source": [
    "from unidecode import unidecode\n",
    "\n",
    "cities_mapping = {}\n",
    "for city_fr in french_city_names:\n",
    "    decoded_city_fr = unidecode(city_fr)\n",
    "    # don't map correct city names\n",
    "    cities_mapping[city_fr.lower()] = city_fr\n",
    "\n",
    "    if decoded_city_fr != city_fr:\n",
    "        # map decoded city name to correct\n",
    "        cities_mapping[decoded_city_fr.lower()] = city_fr\n",
    "\n",
    "other_cities_mapping = {\n",
    "    'marrakesh': 'Marrakech',\n",
    "    'mohammadia': 'Mohammedia',\n",
    "    'tangier': 'Tanger',\n",
    "    'fez': 'Fès',\n",
    "    'fés': 'Fès',\n",
    "    'méknés': 'Meknès',\n",
    "    'meekness': 'Meknès',\n",
    "    'quarzazate': 'Ouarzazate',\n",
    "    'tetuan': 'Tétouan'\n",
    "}\n",
    "\n",
    "cities_mapping.update(other_cities_mapping)\n",
    "# cities_mapping"
   ]
  },
  {
   "cell_type": "code",
   "execution_count": null,
   "metadata": {},
   "outputs": [
    {
     "name": "stdout",
     "output_type": "stream",
     "text": [
      "cities_mapping.json\n"
     ]
    }
   ],
   "source": [
    "import json\n",
    "\n",
    "# Save the dictionary to a JSON file\n",
    "with open('mappers/cities_mapping.json', 'w', encoding='utf-8') as json_file:\n",
    "    json.dump(cities_mapping, json_file, ensure_ascii=False, indent=4)"
   ]
  }
 ],
 "metadata": {
  "kernelspec": {
   "display_name": ".venv",
   "language": "python",
   "name": "python3"
  },
  "language_info": {
   "codemirror_mode": {
    "name": "ipython",
    "version": 3
   },
   "file_extension": ".py",
   "mimetype": "text/x-python",
   "name": "python",
   "nbconvert_exporter": "python",
   "pygments_lexer": "ipython3",
   "version": "3.10.2"
  }
 },
 "nbformat": 4,
 "nbformat_minor": 2
}
