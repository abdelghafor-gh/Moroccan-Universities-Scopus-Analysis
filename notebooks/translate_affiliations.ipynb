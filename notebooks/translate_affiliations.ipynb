{
 "cells": [
  {
   "cell_type": "code",
   "execution_count": 1,
   "metadata": {},
   "outputs": [],
   "source": [
    "import pandas as pd"
   ]
  },
  {
   "cell_type": "code",
   "execution_count": 5,
   "metadata": {},
   "outputs": [],
   "source": [
    "affiliations_df = pd.read_csv('../data/Universities-Affiliations/Moroccan-Affiliations.csv')"
   ]
  },
  {
   "cell_type": "code",
   "execution_count": 6,
   "metadata": {},
   "outputs": [],
   "source": [
    "AFFILIATION_TRANSLATIONS = {\n",
    "    # Universities\n",
    "    \"Université Abdelmalek Essaadi\": \"Abdelmalek Essaadi University\",\n",
    "    \"Université Cadi Ayyad\": \"Cadi Ayyad University\",\n",
    "    \"Université Chouaib Doukkali\": \"Chouaib Doukkali University\",\n",
    "    \"Université Hassan 1er\": \"Hassan 1st University\",\n",
    "    \"Université Hassan II\": \"Hassan II University\",\n",
    "    \"Université Ibn Tofail\": \"Ibn Tofail University\",\n",
    "    \"Université Ibn Zohr\": \"Ibn Zohr University\", \n",
    "    \"Université Mohammed Premier\": \"Mohammed First University\",\n",
    "    \"Université Mohammed V\": \"Mohammed V University\",\n",
    "    \"Université Moulay Ismail\": \"Moulay Ismail University\", \n",
    "    \"Université Sidi Mohamed Ben Abdellah\": \"Sidi Mohamed Ben Abdellah University\",\n",
    "    \"Université Sultan Moulay Slimane\": \"Sultan Moulay Slimane University\",\n",
    "\n",
    "    # Faculty Translations\n",
    "    \"Faculté Oussoul Eddine\": \"Faculty of Fundamentals of Religion\",\n",
    "    \"Faculté des Sciences Juridiques, Economiques et Sociales\": \"Faculty of Legal, Economic and Social Sciences\",\n",
    "    \"Faculté des Sciences Juridiques et Politiques\": \"Faculty of Juridical and Political Sciences\",\n",
    "    \"Faculté des Lettres et des Sciences Humaines\": \"Faculty of Letters and Humanities\",\n",
    "    \"Faculté de la Langue Arabe\": \"Faculty of Arabic Language\", \n",
    "    \"Faculté des Sciences\": \"Faculty of Sciences\",\n",
    "    \"Faculté Polydisciplinaire\": \"Multidisciplinary Faculty\",\n",
    "    \"Faculté des Sciences et Techniques\": \"Faculty of Sciences and Techniques\",\n",
    "    \"Faculté de Médecine et de Pharmacie\": \"Faculty of Medicine and Pharmacy\",\n",
    "    \"Faculté de Médecine Dentaire\": \"Faculty of Dental Medicine\",\n",
    "    \"Faculté d'Economie et de Gestion\": \"Faculty of Economics and Management\", \n",
    "    \"Faculté des Langues, Arts et Science humaines\": \"Faculty of Languages, Arts and Human Sciences\",\n",
    "    \"Faculté des Sciences Appliquées\": \"Faculty of Applied Sciences\",\n",
    "    \"Faculté des Sciences Juridiques, Economiques et Sociales Aïn Chock\": \"Faculty of Legal, Economic and Social Sciences of Aïn Chock\",\n",
    "    \"Faculté des Sciences Juridiques, Economiques et Sociales Aïn Sebaa\": \"Faculty of Legal, Economic and Social Sciences of Aïn Sebaa\",\n",
    "    \"Faculté des Sciences Juridiques, Economiques et Sociales Souissit\": \"Faculty of Legal, Economic and Social Sciences of Souissit\",\n",
    "    \"Facultés des Langues, des Lettres et des Arts\": \"Faculty of Languages, Letters and Arts\",\n",
    "    \"Faculté des Sciences Humaines et Sociale\": \"Faculty of Human and Social Sciences\", \n",
    "    \"Faculté Chariâa\": \"Faculty of Islamic Law (Sharia)\",\n",
    "    \"Faculté des Sciences de l'Education\": \"Faculty of Educational Sciences\",\n",
    "\n",
    "    # School Translations\n",
    "    \"Ecole Nationale des Sciences Appliquées\": \"National School of Applied Sciences\", \n",
    "    \"Ecole Nationale Supérieure de l'Intelligence Artificielle et Sciences des Données\": \"National Higher School of Artificial Intelligence and Data Sciences\",\n",
    "    \"Ecole Nationale Supérieure de l'Intelligence Artificielle et du Digital\": \"National Higher School of Artificial Intelligence and Digital Sciences\",\n",
    "    \"Ecole Nationale de Commerce et de Gestion\": \"National School of Commerce and Management\", \n",
    "    \"Ecole Supérieure de l'Education et de la Formation\": \"Higher School of Education and Training\",\n",
    "    \"Ecole Supérieure de Technologie\": \"Higher School of Technology\", \n",
    "    \"Ecole Nationale Supérieure d'Electricité et de Mécanique\": \"National Higher School of Electricity and Mechanics\", \n",
    "    \"Ecole Nationale Supérieure des Arts et Métiers\": \"National Higher School of Arts and Crafts\", \n",
    "    \"Ecole Nationale Supérieure d'Art et Design\": \"National Higher School of Art and Design\",\n",
    "    \"Ecole Normale Supérieure\": \"Higher Normal School\", \n",
    "    \"Ecole Mohammadia d'Ingénieurs\": \"Mohammadia Engineering School\",\n",
    "    \"Ecole Nationale Supérieure d'Informatique et d'Analyse des Systèmes\": \"National Higher School of Computer Science and Systems Analysis\", \n",
    "    \"Ecole Normale Supérieure de l'Enseignement Technique\": \"Higher Normal School of Technical Education\",\n",
    "    \"Ecole Supérieure Roi Fahd de Traduction\": \"King Fahd Higher School of Translation\",\n",
    "\n",
    "    # Institute Translations\n",
    "    \"Institut Supérieur des Sciences de la Santé\": \"Higher Institute of Health Sciences\", \n",
    "    \"Institut des Sciences du Sport\": \"Institute of Sports Sciences\", \n",
    "    \"Institut des Métiers du Sport\": \"Institute of Sports Professions\",\n",
    "    \"Institut Scientifique\": \"Scientific Institute\", \n",
    "    \"Institut d'Etudes et de Recherches pour l'Arabisation\": \"Institute of Studies and Research for Arabization\", \n",
    "    \"Institut Universitaire des Etudes Africaines, Euro-méditerranéennes et Ibero-américaines\": \"University Institute of African, Euro-Mediterranean and Ibero-American Studies\"\n",
    "}\n",
    "\n",
    "def translate_affiliation(affiliation):\n",
    "    \"\"\"\n",
    "    Translate a French affiliation to its English equivalent.\n",
    "    \n",
    "    :param affiliation: French affiliation name\n",
    "    :return: English translation or original name if no translation found\n",
    "    \"\"\"\n",
    "    return AFFILIATION_TRANSLATIONS.get(affiliation, affiliation)"
   ]
  },
  {
   "cell_type": "code",
   "execution_count": 7,
   "metadata": {},
   "outputs": [
    {
     "data": {
      "text/plain": [
       "0                       Abdelmalek Essaadi University\n",
       "1                 Faculty of Fundamentals of Religion\n",
       "2      Faculty of Legal, Economic and Social Sciences\n",
       "3      Faculty of Legal, Economic and Social Sciences\n",
       "4                   Faculty of Letters and Humanities\n",
       "                            ...                      \n",
       "170        National School of Commerce and Management\n",
       "171           Higher School of Education and Training\n",
       "172                       Higher School of Technology\n",
       "173                       Higher School of Technology\n",
       "174                       Higher School of Technology\n",
       "Name: Affiliation, Length: 175, dtype: object"
      ]
     },
     "execution_count": 7,
     "metadata": {},
     "output_type": "execute_result"
    }
   ],
   "source": [
    "affiliations_en = affiliations_df['Affiliation'].apply(lambda aff: translate_affiliation(aff.strip()))\n",
    "affiliations_en"
   ]
  },
  {
   "cell_type": "code",
   "execution_count": 8,
   "metadata": {},
   "outputs": [],
   "source": [
    "affiliations_df['Affiliation En Name'] = affiliations_en"
   ]
  },
  {
   "cell_type": "code",
   "execution_count": 9,
   "metadata": {},
   "outputs": [],
   "source": [
    "affiliations_df.to_csv('output/affiliations.csv', index=False)\n"
   ]
  }
 ],
 "metadata": {
  "kernelspec": {
   "display_name": ".venv",
   "language": "python",
   "name": "python3"
  },
  "language_info": {
   "codemirror_mode": {
    "name": "ipython",
    "version": 3
   },
   "file_extension": ".py",
   "mimetype": "text/x-python",
   "name": "python",
   "nbconvert_exporter": "python",
   "pygments_lexer": "ipython3",
   "version": "3.10.2"
  }
 },
 "nbformat": 4,
 "nbformat_minor": 2
}
