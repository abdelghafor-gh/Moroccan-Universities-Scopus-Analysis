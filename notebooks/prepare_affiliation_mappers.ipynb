{
 "cells": [
  {
   "cell_type": "code",
   "execution_count": 2,
   "metadata": {},
   "outputs": [],
   "source": [
    "import json\n",
    "import pandas as pd\n",
    "import unicodedata\n",
    "import re"
   ]
  },
  {
   "cell_type": "code",
   "execution_count": 3,
   "metadata": {},
   "outputs": [],
   "source": [
    "def normalize_digits(affiliation):\n",
    "    # Patterns for variations\n",
    "    patterns = {\n",
    "        r'\\b(first|1st|1er|i)\\b': '1',  # Variations of 1\n",
    "        r'\\b(second|2nd|ii)\\b': '2',    # Variations of 2\n",
    "        r'\\b(fifth|5th|v)\\b': '5'       # Variations of 5\n",
    "    }\n",
    "    \n",
    "    normalized_affiliation = affiliation\n",
    "    for pattern, replacement in patterns.items():\n",
    "        # Replace matched patterns with their respective replacements\n",
    "        normalized_affiliation = re.sub(pattern, replacement, normalized_affiliation)\n",
    "    return normalized_affiliation"
   ]
  },
  {
   "cell_type": "code",
   "execution_count": 4,
   "metadata": {},
   "outputs": [],
   "source": [
    "def remove_accents(text):\n",
    "    # Normalize the text to decompose characters with accents\n",
    "    normalized_text = unicodedata.normalize('NFKD', text)\n",
    "    # Filter out the accents and keep only ASCII characters\n",
    "    return ''.join(char for char in normalized_text if not unicodedata.combining(char))"
   ]
  },
  {
   "cell_type": "code",
   "execution_count": 5,
   "metadata": {},
   "outputs": [],
   "source": [
    "# Exemple d'input\n",
    "# input_text = \"Département des Sciences de la Terre, Marrakech, B.P. 549, Morocco | aïn chock\"\n",
    "# output_text = remove_accents(input_text)\n",
    "# print('outp:', output_text)"
   ]
  },
  {
   "cell_type": "code",
   "execution_count": 6,
   "metadata": {},
   "outputs": [],
   "source": [
    "def generate_fr_affiliations_variations(affiliation_fr):\n",
    "    variations = []\n",
    "    \n",
    "    return variations\n",
    "\n",
    "def generate_en_affiliations_variations(affiliation_en):\n",
    "    variations = []\n",
    "    opt1 = 'faculty of sciences and techniques'\n",
    "    opt2 = 'faculty of sciences'\n",
    "    opt3 = 'polydisciplinary'\n",
    "\n",
    "    if opt1 in affiliation_en:\n",
    "        v1 = affiliation_en.replace(opt1, 'faculty of science and techniques')\n",
    "        v2 = affiliation_en.replace(opt1, 'faculty of sciences and technology')\n",
    "        v3 = affiliation_en.replace(opt1, 'faculty of science and technology')\n",
    "        variations.extend([v1, v2, v3])\n",
    "    \n",
    "    elif opt2 in affiliation_en:\n",
    "        v = affiliation_en.replace(opt2, 'faculty of science')\n",
    "        variations.append(v)\n",
    "    \n",
    "    \n",
    "    elif opt3 in affiliation_en:\n",
    "        u = affiliation_en.replace(opt3, 'multidisciplinary')\n",
    "        variations.append(u)\n",
    "\n",
    "    return variations"
   ]
  },
  {
   "cell_type": "code",
   "execution_count": 47,
   "metadata": {},
   "outputs": [],
   "source": [
    "def update_affiliation(df):\n",
    "\n",
    "    updated_rows = []\n",
    "\n",
    "    # FS Semlalia -> FS\n",
    "    fs_semlalia = df.loc[df['id'] == 23].copy()\n",
    "    fs_semlalia.loc[:, 'Abbreviation'] = 'FS'\n",
    "    fs_semlalia.loc[:, 'Affiliation'] = 'Faculté des Sciences'\n",
    "    fs_semlalia.loc[:, 'Affiliation En Name'] = 'Faculty of Sciences'\n",
    "    updated_rows.append(fs_semlalia)\n",
    "\n",
    "\n",
    "    # FS Dhar El Mahraz -> FS\n",
    "    fs_fes = df.loc[df['id'] == 153].copy()\n",
    "    fs_fes.loc[:, 'Abbreviation'] = 'FS'\n",
    "    fs_fes.loc[:, 'Affiliation'] = 'Faculté des Sciences'\n",
    "    fs_fes.loc[:, 'Affiliation En Name'] = 'Faculty of Sciences'\n",
    "    updated_rows.append(fs_fes)\n",
    "\n",
    "\n",
    "    # FST Sais -> FST\n",
    "    fst_fes = df.loc[df['id'] == 155].copy()\n",
    "    fst_fes.loc[:, 'Abbreviation'] = 'FST'\n",
    "    fst_fes.loc[:, 'Affiliation'] = 'Faculté des Sciences et Techniques'\n",
    "    fst_fes.loc[:, 'Affiliation En Name'] = 'Faculty of Sciences and Techniques'\n",
    "    updated_rows.append(fst_fes)\n",
    "\n",
    "    # Combine original DataFrame with the new rows\n",
    "    updated_df = pd.concat([df] + updated_rows, ignore_index=True)\n",
    "\n",
    "    return updated_df"
   ]
  },
  {
   "cell_type": "code",
   "execution_count": null,
   "metadata": {},
   "outputs": [],
   "source": [
    "affiliations_df = pd.read_csv('../data/transformed/affiliations.csv')\n",
    "affiliations_df = update_affiliation(affiliations_df)\n",
    "# affiliations_df.to_csv('output/aff.csv', index=False)"
   ]
  },
  {
   "cell_type": "code",
   "execution_count": 50,
   "metadata": {},
   "outputs": [],
   "source": [
    "from collections import defaultdict\n",
    "\n",
    "# Create defaultdicts with nested dictionary as the default value\n",
    "affiliations_by_city = defaultdict(lambda: defaultdict(list))\n",
    "universities_by_city = defaultdict(lambda: defaultdict(list))\n",
    "\n",
    "for _, row in affiliations_df.iterrows():\n",
    "    \n",
    "    city = row['City'].strip()\n",
    "    id = row['id']\n",
    "    abbreviation = row['Abbreviation'].strip().lower()\n",
    "    affiliation_en = row['Affiliation En Name'].strip().lower()\n",
    "    affiliation_fr = row['Affiliation'].strip().lower()\n",
    "    affiliation_fr = remove_accents(affiliation_fr)\n",
    "    affiliation_fr = normalize_digits(affiliation_fr)\n",
    "    affiliation_en = normalize_digits(affiliation_en)\n",
    "\n",
    "    if row['Abbreviation'][0] == 'U':\n",
    "        # University\n",
    "        universities_by_city[city][id].append(abbreviation)\n",
    "        universities_by_city[city][id].append(affiliation_fr)\n",
    "        universities_by_city[city][id].append(affiliation_en)\n",
    "\n",
    "        affiliation_en_2 = ' '.join([affiliation_en.rsplit(' ', 1)[1], affiliation_en.rsplit(' ', 1)[0]])\n",
    "        affiliation_en_3 = ' of '.join([affiliation_en.rsplit(' ', 1)[1], affiliation_en.rsplit(' ', 1)[0]])\n",
    "        universities_by_city[city][id].append(affiliation_en_2)\n",
    "        universities_by_city[city][id].append(affiliation_en_3)\n",
    "    else:\n",
    "        # Affiliation\n",
    "        affiliations_by_city[city][id].append(abbreviation)\n",
    "        affiliations_by_city[city][id].append(affiliation_fr)\n",
    "        affiliations_by_city[city][id].append(affiliation_en)\n",
    "        # Add variations\n",
    "        fr_variations = generate_fr_affiliations_variations(affiliation_fr)\n",
    "        en_variations = generate_en_affiliations_variations(affiliation_en)\n",
    "        affiliations_by_city[city][id].extend(fr_variations)\n",
    "        affiliations_by_city[city][id].extend(en_variations)\n",
    "        "
   ]
  },
  {
   "cell_type": "code",
   "execution_count": 53,
   "metadata": {},
   "outputs": [
    {
     "name": "stdout",
     "output_type": "stream",
     "text": [
      "Data saved to JSON files!\n"
     ]
    }
   ],
   "source": [
    "# Convert defaultdict to a regular dictionary using `dict` and `defaultdict` comprehension\n",
    "universities_by_city_dict = {k: dict(v) for k, v in universities_by_city.items()}\n",
    "affiliations_by_city_dict = {k: dict(v) for k, v in affiliations_by_city.items()}\n",
    "\n",
    "with open('mappers/affiliations_by_city.json', 'w', encoding='utf-8') as json_file:\n",
    "    json.dump(affiliations_by_city, json_file, ensure_ascii=False, indent=4)\n",
    "\n",
    "with open('mappers/universities_by_city.json', 'w', encoding='utf-8') as json_file:\n",
    "    json.dump(universities_by_city, json_file, ensure_ascii=False, indent=4)\n",
    "\n",
    "print(\"Data saved to JSON files!\")"
   ]
  },
  {
   "cell_type": "code",
   "execution_count": null,
   "metadata": {},
   "outputs": [],
   "source": []
  },
  {
   "cell_type": "code",
   "execution_count": null,
   "metadata": {},
   "outputs": [],
   "source": []
  },
  {
   "cell_type": "code",
   "execution_count": null,
   "metadata": {},
   "outputs": [],
   "source": []
  },
  {
   "cell_type": "code",
   "execution_count": null,
   "metadata": {},
   "outputs": [],
   "source": []
  },
  {
   "cell_type": "code",
   "execution_count": 11,
   "metadata": {},
   "outputs": [
    {
     "name": "stdout",
     "output_type": "stream",
     "text": [
      "The Levenshtein distance between the strings is: 1\n"
     ]
    }
   ],
   "source": [
    "import Levenshtein\n",
    "\n",
    "# Define two strings\n",
    "string1 = \"university of moahmmed j\"\n",
    "string2 = \"university of moahmmed i\"\n",
    "\n",
    "# Calculate Levenshtein distance\n",
    "distance = Levenshtein.distance(string1, string2)\n",
    "\n",
    "# Print the result\n",
    "print(f\"The Levenshtein distance between the strings is: {distance}\")\n"
   ]
  }
 ],
 "metadata": {
  "kernelspec": {
   "display_name": ".venv",
   "language": "python",
   "name": "python3"
  },
  "language_info": {
   "codemirror_mode": {
    "name": "ipython",
    "version": 3
   },
   "file_extension": ".py",
   "mimetype": "text/x-python",
   "name": "python",
   "nbconvert_exporter": "python",
   "pygments_lexer": "ipython3",
   "version": "3.10.2"
  }
 },
 "nbformat": 4,
 "nbformat_minor": 2
}
