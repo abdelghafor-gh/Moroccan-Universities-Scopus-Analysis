{
 "cells": [
  {
   "cell_type": "code",
   "execution_count": 1,
   "metadata": {},
   "outputs": [],
   "source": [
    "import pandas as pd"
   ]
  },
  {
   "cell_type": "code",
   "execution_count": 4,
   "metadata": {},
   "outputs": [],
   "source": [
    "df = pd.read_csv('../data/transformed/transformed_2023.csv')"
   ]
  },
  {
   "cell_type": "code",
   "execution_count": 39,
   "metadata": {},
   "outputs": [],
   "source": [
    "bool3 = df['city'] == 'Fès'\n",
    "# bool3"
   ]
  },
  {
   "cell_type": "code",
   "execution_count": 40,
   "metadata": {},
   "outputs": [],
   "source": [
    "# Create individual boolean conditions\n",
    "bool1 = df['affiliation_full_name'].apply(lambda x: 'faculty' in x.lower())\n",
    "bool2 = df['affiliation_full_name'].apply(lambda x: 'science' in x.lower())\n",
    "# bool3 = df['affiliation_full_name'].apply(lambda x: 'technique' in x.lower())\n",
    "bool3 = df['city'] == 'Fès'\n",
    "\n",
    "# Combine the two conditions\n",
    "bool_combined = bool1 & bool2 & bool3\n",
    "\n",
    "out = df[bool_combined]['affiliation_full_name']\n",
    "out.to_csv(\"output/out.csv\")\n",
    "# out.count()"
   ]
  },
  {
   "cell_type": "code",
   "execution_count": null,
   "metadata": {},
   "outputs": [],
   "source": []
  },
  {
   "cell_type": "code",
   "execution_count": 5,
   "metadata": {},
   "outputs": [],
   "source": [
    "raw_df = pd.read_csv('../data/raw/scopus/2023.csv')"
   ]
  },
  {
   "cell_type": "code",
   "execution_count": 6,
   "metadata": {},
   "outputs": [
    {
     "data": {
      "text/plain": [
       "Index(['Authors', 'Author full names', 'Author(s) ID', 'Title', 'Year',\n",
       "       'Source title', 'Volume', 'Issue', 'Art. No.', 'Page start', 'Page end',\n",
       "       'Page count', 'DOI', 'Link', 'Affiliations',\n",
       "       'Authors with affiliations', 'Author Keywords', 'Index Keywords',\n",
       "       'Editors', 'Publisher', 'ISSN', 'ISBN', 'CODEN', 'PubMed ID',\n",
       "       'Language of Original Document', 'Document Type', 'Source', 'EID'],\n",
       "      dtype='object')"
      ]
     },
     "execution_count": 6,
     "metadata": {},
     "output_type": "execute_result"
    }
   ],
   "source": [
    "raw_df.columns"
   ]
  },
  {
   "cell_type": "markdown",
   "metadata": {},
   "source": [
    "title, year, source_title, volume, issue, publisher, issn, language of original document, document_type, cited_by"
   ]
  },
  {
   "cell_type": "code",
   "execution_count": 36,
   "metadata": {},
   "outputs": [
    {
     "data": {
      "text/plain": [
       "0       NaN\n",
       "1       NaN\n",
       "2       NaN\n",
       "3       NaN\n",
       "4       NaN\n",
       "         ..\n",
       "14953   NaN\n",
       "14954   NaN\n",
       "14955   NaN\n",
       "14956   NaN\n",
       "14957   NaN\n",
       "Name: PubMed ID, Length: 14958, dtype: float64"
      ]
     },
     "execution_count": 36,
     "metadata": {},
     "output_type": "execute_result"
    }
   ],
   "source": [
    "raw_df['PubMed ID']"
   ]
  }
 ],
 "metadata": {
  "kernelspec": {
   "display_name": ".venv",
   "language": "python",
   "name": "python3"
  },
  "language_info": {
   "codemirror_mode": {
    "name": "ipython",
    "version": 3
   },
   "file_extension": ".py",
   "mimetype": "text/x-python",
   "name": "python",
   "nbconvert_exporter": "python",
   "pygments_lexer": "ipython3",
   "version": "3.10.2"
  }
 },
 "nbformat": 4,
 "nbformat_minor": 2
}
