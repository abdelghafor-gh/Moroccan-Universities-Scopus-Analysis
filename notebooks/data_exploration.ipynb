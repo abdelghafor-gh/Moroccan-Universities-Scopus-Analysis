{
 "cells": [
  {
   "cell_type": "code",
   "execution_count": 33,
   "metadata": {},
   "outputs": [],
   "source": [
    "import pandas as pd"
   ]
  },
  {
   "cell_type": "code",
   "execution_count": 35,
   "metadata": {},
   "outputs": [],
   "source": [
    "df = pd.read_csv('../data/transformed/2023.csv')"
   ]
  },
  {
   "cell_type": "code",
   "execution_count": 39,
   "metadata": {},
   "outputs": [],
   "source": [
    "bool3 = df['city'] == 'Fès'\n",
    "# bool3"
   ]
  },
  {
   "cell_type": "code",
   "execution_count": 40,
   "metadata": {},
   "outputs": [],
   "source": [
    "# Create individual boolean conditions\n",
    "bool1 = df['affiliation_full_name'].apply(lambda x: 'faculty' in x.lower())\n",
    "bool2 = df['affiliation_full_name'].apply(lambda x: 'science' in x.lower())\n",
    "# bool3 = df['affiliation_full_name'].apply(lambda x: 'technique' in x.lower())\n",
    "bool3 = df['city'] == 'Fès'\n",
    "\n",
    "# Combine the two conditions\n",
    "bool_combined = bool1 & bool2 & bool3\n",
    "\n",
    "out = df[bool_combined]['affiliation_full_name']\n",
    "out.to_csv(\"output/out.csv\")\n",
    "# out.count()"
   ]
  },
  {
   "cell_type": "code",
   "execution_count": null,
   "metadata": {},
   "outputs": [],
   "source": []
  },
  {
   "cell_type": "code",
   "execution_count": null,
   "metadata": {},
   "outputs": [],
   "source": []
  }
 ],
 "metadata": {
  "kernelspec": {
   "display_name": ".venv",
   "language": "python",
   "name": "python3"
  },
  "language_info": {
   "codemirror_mode": {
    "name": "ipython",
    "version": 3
   },
   "file_extension": ".py",
   "mimetype": "text/x-python",
   "name": "python",
   "nbconvert_exporter": "python",
   "pygments_lexer": "ipython3",
   "version": "3.10.2"
  }
 },
 "nbformat": 4,
 "nbformat_minor": 2
}
