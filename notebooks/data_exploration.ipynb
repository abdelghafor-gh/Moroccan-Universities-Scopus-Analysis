{
 "cells": [
  {
   "cell_type": "code",
   "execution_count": 1,
   "metadata": {},
   "outputs": [],
   "source": [
    "import pandas as pd"
   ]
  },
  {
   "cell_type": "code",
   "execution_count": 4,
   "metadata": {},
   "outputs": [],
   "source": [
    "df = pd.read_csv('../data/transformed/transformed_2023.csv')"
   ]
  },
  {
   "cell_type": "code",
   "execution_count": 39,
   "metadata": {},
   "outputs": [],
   "source": [
    "bool3 = df['city'] == 'Fès'\n",
    "# bool3"
   ]
  },
  {
   "cell_type": "code",
   "execution_count": 40,
   "metadata": {},
   "outputs": [],
   "source": [
    "# Create individual boolean conditions\n",
    "bool1 = df['affiliation_full_name'].apply(lambda x: 'faculty' in x.lower())\n",
    "bool2 = df['affiliation_full_name'].apply(lambda x: 'science' in x.lower())\n",
    "# bool3 = df['affiliation_full_name'].apply(lambda x: 'technique' in x.lower())\n",
    "bool3 = df['city'] == 'Fès'\n",
    "\n",
    "# Combine the two conditions\n",
    "bool_combined = bool1 & bool2 & bool3\n",
    "\n",
    "out = df[bool_combined]['affiliation_full_name']\n",
    "out.to_csv(\"output/out.csv\")\n",
    "# out.count()"
   ]
  },
  {
   "cell_type": "code",
   "execution_count": null,
   "metadata": {},
   "outputs": [],
   "source": []
  },
  {
   "cell_type": "code",
   "execution_count": 14,
   "metadata": {},
   "outputs": [],
   "source": [
    "raw_df = pd.read_csv('../data/transformed/affiliations.csv')"
   ]
  },
  {
   "cell_type": "code",
   "execution_count": 15,
   "metadata": {},
   "outputs": [
    {
     "data": {
      "text/plain": [
       "Index(['id', 'Affiliation', 'Abbreviation', 'University', 'City',\n",
       "       'Affiliation En Name'],\n",
       "      dtype='object')"
      ]
     },
     "execution_count": 15,
     "metadata": {},
     "output_type": "execute_result"
    }
   ],
   "source": [
    "raw_df.columns"
   ]
  },
  {
   "cell_type": "code",
   "execution_count": 36,
   "metadata": {},
   "outputs": [
    {
     "data": {
      "text/plain": [
       "0       NaN\n",
       "1       NaN\n",
       "2       NaN\n",
       "3       NaN\n",
       "4       NaN\n",
       "         ..\n",
       "14953   NaN\n",
       "14954   NaN\n",
       "14955   NaN\n",
       "14956   NaN\n",
       "14957   NaN\n",
       "Name: PubMed ID, Length: 14958, dtype: float64"
      ]
     },
     "execution_count": 36,
     "metadata": {},
     "output_type": "execute_result"
    }
   ],
   "source": [
    "raw_df['PubMed ID']"
   ]
  },
  {
   "cell_type": "code",
   "execution_count": 12,
   "metadata": {},
   "outputs": [
    {
     "data": {
      "text/plain": [
       "Index(['Rank', 'Sourceid', 'Title', 'Type', 'Issn', 'SJR', 'SJR Best Quartile',\n",
       "       'H index', 'Total Docs. (2023)', 'Total Docs. (3years)', 'Total Refs.',\n",
       "       'Total Cites (3years)', 'Citable Docs. (3years)',\n",
       "       'Cites / Doc. (2years)', 'Ref. / Doc.', '%Female', 'Overton', 'SDG',\n",
       "       'Country', 'Region', 'Publisher', 'Coverage', 'Categories', 'Areas'],\n",
       "      dtype='object')"
      ]
     },
     "execution_count": 12,
     "metadata": {},
     "output_type": "execute_result"
    }
   ],
   "source": [
    "# jr = pd.read_csv('../data/raw/sjr/journal-23.csv')\n",
    "jr = pd.read_csv('../data/raw/sjr/journal-23.csv', \n",
    "                 on_bad_lines='warn',  # This will warn about problematic lines instead of failing\n",
    "                 sep=';',              # Explicitly specify the delimiter\n",
    "                 quoting=1)            # QUOTE_ALL\n",
    "\n",
    "jr.columns"
   ]
  },
  {
   "cell_type": "code",
   "execution_count": 16,
   "metadata": {},
   "outputs": [
    {
     "data": {
      "text/plain": [
       "Index(['Rank', 'Sourceid', 'Title', 'Type', 'Issn', 'SJR', 'SJR_Best_Quartile',\n",
       "       'H_index', 'Total_Docs_(2023)', 'Total_Docs_(3years)', 'Total_Refs',\n",
       "       'Total_Cites_(3years)', 'Citable_Docs_(3years)', 'Cites_/_Doc_(2years)',\n",
       "       'Ref_/_Doc', '%Female', 'Overton', 'SDG', 'Country', 'Region',\n",
       "       'Publisher', 'Coverage', 'Categories', 'Areas'],\n",
       "      dtype='object')"
      ]
     },
     "execution_count": 16,
     "metadata": {},
     "output_type": "execute_result"
    }
   ],
   "source": [
    "import pandas as pd\n",
    "jr = pd.read_csv('../data/transformed/clean_journal_23.csv')\n",
    "jr.columns"
   ]
  },
  {
   "cell_type": "code",
   "execution_count": 14,
   "metadata": {},
   "outputs": [
    {
     "data": {
      "text/plain": [
       "Index(['id', 'name'], dtype='object')"
      ]
     },
     "execution_count": 14,
     "metadata": {},
     "output_type": "execute_result"
    }
   ],
   "source": [
    "authors = pd.read_csv('../data/dimensions/authors.csv')\n",
    "authors.columns"
   ]
  },
  {
   "cell_type": "code",
   "execution_count": 15,
   "metadata": {},
   "outputs": [
    {
     "data": {
      "text/plain": [
       "id      24658\n",
       "name    24658\n",
       "dtype: int64"
      ]
     },
     "execution_count": 15,
     "metadata": {},
     "output_type": "execute_result"
    }
   ],
   "source": [
    "authors.count()"
   ]
  },
  {
   "cell_type": "code",
   "execution_count": 10,
   "metadata": {},
   "outputs": [
    {
     "data": {
      "text/plain": [
       "dtype('O')"
      ]
     },
     "execution_count": 10,
     "metadata": {},
     "output_type": "execute_result"
    }
   ],
   "source": [
    "authors['name'].dtype"
   ]
  }
 ],
 "metadata": {
  "kernelspec": {
   "display_name": ".venv",
   "language": "python",
   "name": "python3"
  },
  "language_info": {
   "codemirror_mode": {
    "name": "ipython",
    "version": 3
   },
   "file_extension": ".py",
   "mimetype": "text/x-python",
   "name": "python",
   "nbconvert_exporter": "python",
   "pygments_lexer": "ipython3",
   "version": "3.10.2"
  }
 },
 "nbformat": 4,
 "nbformat_minor": 2
}
