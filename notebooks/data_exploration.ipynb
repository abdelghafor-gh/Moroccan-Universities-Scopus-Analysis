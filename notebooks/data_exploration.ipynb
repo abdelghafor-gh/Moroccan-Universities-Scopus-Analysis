{
 "cells": [
  {
   "cell_type": "code",
   "execution_count": 1,
   "metadata": {},
   "outputs": [],
   "source": [
    "import pandas as pd"
   ]
  },
  {
   "cell_type": "code",
   "execution_count": 4,
   "metadata": {},
   "outputs": [],
   "source": [
    "df = pd.read_csv('../data/transformed/transformed_2023.csv')"
   ]
  },
  {
   "cell_type": "code",
   "execution_count": 39,
   "metadata": {},
   "outputs": [],
   "source": [
    "bool3 = df['city'] == 'Fès'\n",
    "# bool3"
   ]
  },
  {
   "cell_type": "code",
   "execution_count": 40,
   "metadata": {},
   "outputs": [],
   "source": [
    "# Create individual boolean conditions\n",
    "bool1 = df['affiliation_full_name'].apply(lambda x: 'faculty' in x.lower())\n",
    "bool2 = df['affiliation_full_name'].apply(lambda x: 'science' in x.lower())\n",
    "# bool3 = df['affiliation_full_name'].apply(lambda x: 'technique' in x.lower())\n",
    "bool3 = df['city'] == 'Fès'\n",
    "\n",
    "# Combine the two conditions\n",
    "bool_combined = bool1 & bool2 & bool3\n",
    "\n",
    "out = df[bool_combined]['affiliation_full_name']\n",
    "out.to_csv(\"output/out.csv\")\n",
    "# out.count()"
   ]
  },
  {
   "cell_type": "code",
   "execution_count": null,
   "metadata": {},
   "outputs": [],
   "source": []
  },
  {
   "cell_type": "code",
   "execution_count": 14,
   "metadata": {},
   "outputs": [],
   "source": [
    "raw_df = pd.read_csv('../data/transformed/affiliations.csv')"
   ]
  },
  {
   "cell_type": "code",
   "execution_count": 15,
   "metadata": {},
   "outputs": [
    {
     "data": {
      "text/plain": [
       "Index(['id', 'Affiliation', 'Abbreviation', 'University', 'City',\n",
       "       'Affiliation En Name'],\n",
       "      dtype='object')"
      ]
     },
     "execution_count": 15,
     "metadata": {},
     "output_type": "execute_result"
    }
   ],
   "source": [
    "raw_df.columns"
   ]
  },
  {
   "cell_type": "code",
   "execution_count": 36,
   "metadata": {},
   "outputs": [
    {
     "data": {
      "text/plain": [
       "0       NaN\n",
       "1       NaN\n",
       "2       NaN\n",
       "3       NaN\n",
       "4       NaN\n",
       "         ..\n",
       "14953   NaN\n",
       "14954   NaN\n",
       "14955   NaN\n",
       "14956   NaN\n",
       "14957   NaN\n",
       "Name: PubMed ID, Length: 14958, dtype: float64"
      ]
     },
     "execution_count": 36,
     "metadata": {},
     "output_type": "execute_result"
    }
   ],
   "source": [
    "raw_df['PubMed ID']"
   ]
  },
  {
   "cell_type": "code",
   "execution_count": 12,
   "metadata": {},
   "outputs": [
    {
     "data": {
      "text/plain": [
       "Index(['Rank', 'Sourceid', 'Title', 'Type', 'Issn', 'SJR', 'SJR Best Quartile',\n",
       "       'H index', 'Total Docs. (2023)', 'Total Docs. (3years)', 'Total Refs.',\n",
       "       'Total Cites (3years)', 'Citable Docs. (3years)',\n",
       "       'Cites / Doc. (2years)', 'Ref. / Doc.', '%Female', 'Overton', 'SDG',\n",
       "       'Country', 'Region', 'Publisher', 'Coverage', 'Categories', 'Areas'],\n",
       "      dtype='object')"
      ]
     },
     "execution_count": 12,
     "metadata": {},
     "output_type": "execute_result"
    }
   ],
   "source": [
    "# jr = pd.read_csv('../data/raw/sjr/journal-23.csv')\n",
    "jr = pd.read_csv('../data/raw/sjr/journal-23.csv', \n",
    "                 on_bad_lines='warn',  # This will warn about problematic lines instead of failing\n",
    "                 sep=';',              # Explicitly specify the delimiter\n",
    "                 quoting=1)            # QUOTE_ALL\n",
    "\n",
    "jr.columns"
   ]
  },
  {
   "cell_type": "code",
   "execution_count": 42,
   "metadata": {},
   "outputs": [
    {
     "data": {
      "text/plain": [
       "Index(['Rank', 'Sourceid', 'Title', 'Type', 'Issn', 'SJR', 'SJR_Best_Quartile',\n",
       "       'H_index', 'Total_Docs_(2023)', 'Total_Docs_(3years)', 'Total_Refs',\n",
       "       'Total_Cites_(3years)', 'Citable_Docs_(3years)', 'Cites_/_Doc_(2years)',\n",
       "       'Ref_/_Doc', '%Female', 'Overton', 'SDG', 'Country', 'Region',\n",
       "       'Publisher', 'Coverage', 'Categories', 'Areas'],\n",
       "      dtype='object')"
      ]
     },
     "execution_count": 42,
     "metadata": {},
     "output_type": "execute_result"
    }
   ],
   "source": [
    "import pandas as pd\n",
    "jr = pd.read_csv('../data/transformed/clean_journal_23.csv')\n",
    "jr.columns"
   ]
  },
  {
   "cell_type": "code",
   "execution_count": 45,
   "metadata": {},
   "outputs": [],
   "source": [
    "empty_issn_journals = jr[jr['Issn'].isnull()]\n",
    "# empty_issn_journals.count()"
   ]
  },
  {
   "cell_type": "code",
   "execution_count": 19,
   "metadata": {},
   "outputs": [
    {
     "data": {
      "text/html": [
       "<div>\n",
       "<style scoped>\n",
       "    .dataframe tbody tr th:only-of-type {\n",
       "        vertical-align: middle;\n",
       "    }\n",
       "\n",
       "    .dataframe tbody tr th {\n",
       "        vertical-align: top;\n",
       "    }\n",
       "\n",
       "    .dataframe thead th {\n",
       "        text-align: right;\n",
       "    }\n",
       "</style>\n",
       "<table border=\"1\" class=\"dataframe\">\n",
       "  <thead>\n",
       "    <tr style=\"text-align: right;\">\n",
       "      <th></th>\n",
       "      <th>Rank</th>\n",
       "      <th>Sourceid</th>\n",
       "      <th>Title</th>\n",
       "      <th>Type</th>\n",
       "      <th>Issn</th>\n",
       "      <th>SJR</th>\n",
       "      <th>SJR_Best_Quartile</th>\n",
       "      <th>H_index</th>\n",
       "      <th>Total_Docs_(2023)</th>\n",
       "      <th>Total_Docs_(3years)</th>\n",
       "      <th>...</th>\n",
       "      <th>Ref_/_Doc</th>\n",
       "      <th>%Female</th>\n",
       "      <th>Overton</th>\n",
       "      <th>SDG</th>\n",
       "      <th>Country</th>\n",
       "      <th>Region</th>\n",
       "      <th>Publisher</th>\n",
       "      <th>Coverage</th>\n",
       "      <th>Categories</th>\n",
       "      <th>Areas</th>\n",
       "    </tr>\n",
       "  </thead>\n",
       "  <tbody>\n",
       "    <tr>\n",
       "      <th>2023</th>\n",
       "      <td>2024</td>\n",
       "      <td>21100400826</td>\n",
       "      <td>Journal of Energy Storage</td>\n",
       "      <td>journal</td>\n",
       "      <td>2352152X</td>\n",
       "      <td>1.595</td>\n",
       "      <td>Q1</td>\n",
       "      <td>105</td>\n",
       "      <td>3161</td>\n",
       "      <td>4523</td>\n",
       "      <td>...</td>\n",
       "      <td>61,39</td>\n",
       "      <td>28,12</td>\n",
       "      <td>6</td>\n",
       "      <td>1889</td>\n",
       "      <td>Netherlands</td>\n",
       "      <td>Western Europe</td>\n",
       "      <td>Elsevier B.V.</td>\n",
       "      <td>2015-2023</td>\n",
       "      <td>Electrical and Electronic Engineering (Q1); En...</td>\n",
       "      <td>Energy; Engineering</td>\n",
       "    </tr>\n",
       "  </tbody>\n",
       "</table>\n",
       "<p>1 rows × 24 columns</p>\n",
       "</div>"
      ],
      "text/plain": [
       "      Rank     Sourceid                      Title     Type      Issn    SJR  \\\n",
       "2023  2024  21100400826  Journal of Energy Storage  journal  2352152X  1.595   \n",
       "\n",
       "     SJR_Best_Quartile  H_index  Total_Docs_(2023)  Total_Docs_(3years)  ...  \\\n",
       "2023                Q1      105               3161                 4523  ...   \n",
       "\n",
       "      Ref_/_Doc  %Female  Overton   SDG      Country          Region  \\\n",
       "2023      61,39    28,12        6  1889  Netherlands  Western Europe   \n",
       "\n",
       "          Publisher   Coverage  \\\n",
       "2023  Elsevier B.V.  2015-2023   \n",
       "\n",
       "                                             Categories                Areas  \n",
       "2023  Electrical and Electronic Engineering (Q1); En...  Energy; Engineering  \n",
       "\n",
       "[1 rows x 24 columns]"
      ]
     },
     "execution_count": 19,
     "metadata": {},
     "output_type": "execute_result"
    }
   ],
   "source": [
    "jr[jr['Title'] == 'Journal of Energy Storage']"
   ]
  },
  {
   "cell_type": "code",
   "execution_count": 14,
   "metadata": {},
   "outputs": [
    {
     "data": {
      "text/plain": [
       "Index(['id', 'name'], dtype='object')"
      ]
     },
     "execution_count": 14,
     "metadata": {},
     "output_type": "execute_result"
    }
   ],
   "source": [
    "authors = pd.read_csv('../data/dimensions/authors.csv')\n",
    "authors.columns"
   ]
  },
  {
   "cell_type": "code",
   "execution_count": 15,
   "metadata": {},
   "outputs": [
    {
     "data": {
      "text/plain": [
       "id      24658\n",
       "name    24658\n",
       "dtype: int64"
      ]
     },
     "execution_count": 15,
     "metadata": {},
     "output_type": "execute_result"
    }
   ],
   "source": [
    "authors.count()"
   ]
  },
  {
   "cell_type": "code",
   "execution_count": 10,
   "metadata": {},
   "outputs": [
    {
     "data": {
      "text/plain": [
       "dtype('O')"
      ]
     },
     "execution_count": 10,
     "metadata": {},
     "output_type": "execute_result"
    }
   ],
   "source": [
    "authors['name'].dtype"
   ]
  },
  {
   "cell_type": "code",
   "execution_count": 36,
   "metadata": {},
   "outputs": [
    {
     "name": "stdout",
     "output_type": "stream",
     "text": [
      "50400\n"
     ]
    }
   ],
   "source": [
    "publications = pd.read_csv('../data/fact/publications_fact.csv')\n",
    "issns = publications['ISSN'].astype(str)\n",
    "ans = []\n",
    "for issn in issns:\n",
    "    b =  ',' in issn\n",
    "    ans.append(b)\n",
    "\n",
    "print(ans.count(True))"
   ]
  },
  {
   "cell_type": "code",
   "execution_count": 39,
   "metadata": {},
   "outputs": [
    {
     "data": {
      "text/plain": [
       "Author ID                        3458\n",
       "Affiliation ID                   3458\n",
       "Title                            3458\n",
       "Year                             3458\n",
       "Document Type                    3458\n",
       "Source title                     3458\n",
       "DOI                              3319\n",
       "Link                             3458\n",
       "Language of Original Document    3458\n",
       "ISSN                                0\n",
       "PubMed ID                           0\n",
       "Volume                             72\n",
       "Issue                               0\n",
       "dtype: int64"
      ]
     },
     "execution_count": 39,
     "metadata": {},
     "output_type": "execute_result"
    }
   ],
   "source": [
    "empty_issn_publications = publications[publications['ISSN'].isna()]\n",
    "empty_issn_publications.count()"
   ]
  }
 ],
 "metadata": {
  "kernelspec": {
   "display_name": ".venv",
   "language": "python",
   "name": "python3"
  },
  "language_info": {
   "codemirror_mode": {
    "name": "ipython",
    "version": 3
   },
   "file_extension": ".py",
   "mimetype": "text/x-python",
   "name": "python",
   "nbconvert_exporter": "python",
   "pygments_lexer": "ipython3",
   "version": "3.10.2"
  }
 },
 "nbformat": 4,
 "nbformat_minor": 2
}
