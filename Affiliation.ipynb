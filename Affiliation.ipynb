{
 "cells": [
  {
   "cell_type": "code",
   "execution_count": 1,
   "metadata": {},
   "outputs": [],
   "source": [
    "import os\n",
    "import pandas as pd"
   ]
  },
  {
   "cell_type": "code",
   "execution_count": null,
   "metadata": {},
   "outputs": [],
   "source": [
    "folder_path = 'data/Universities-Affiliations'"
   ]
  },
  {
   "cell_type": "code",
   "execution_count": 3,
   "metadata": {},
   "outputs": [],
   "source": [
    "\n",
    "dataframes = []\n",
    "\n",
    "for filename in os.listdir(folder_path):\n",
    "    if filename.endswith('.csv'):\n",
    "        file_path = os.path.join(folder_path, filename)\n",
    "        dataframes.append(pd.read_csv(file_path))\n",
    "\n",
    "combined_df = pd.concat(dataframes, ignore_index=True)\n",
    "\n"
   ]
  },
  {
   "cell_type": "code",
   "execution_count": 4,
   "metadata": {},
   "outputs": [
    {
     "data": {
      "text/html": [
       "<div>\n",
       "<style scoped>\n",
       "    .dataframe tbody tr th:only-of-type {\n",
       "        vertical-align: middle;\n",
       "    }\n",
       "\n",
       "    .dataframe tbody tr th {\n",
       "        vertical-align: top;\n",
       "    }\n",
       "\n",
       "    .dataframe thead th {\n",
       "        text-align: right;\n",
       "    }\n",
       "</style>\n",
       "<table border=\"1\" class=\"dataframe\">\n",
       "  <thead>\n",
       "    <tr style=\"text-align: right;\">\n",
       "      <th></th>\n",
       "      <th>Affiliation</th>\n",
       "      <th>Abbreviation</th>\n",
       "      <th>University</th>\n",
       "      <th>City</th>\n",
       "    </tr>\n",
       "  </thead>\n",
       "  <tbody>\n",
       "    <tr>\n",
       "      <th>0</th>\n",
       "      <td>Université Abdelmalek Essaadi</td>\n",
       "      <td>NaN</td>\n",
       "      <td>Université Abdelmalek Essaadi</td>\n",
       "      <td>Tétouan</td>\n",
       "    </tr>\n",
       "    <tr>\n",
       "      <th>1</th>\n",
       "      <td>Faculté Oussoul Eddine</td>\n",
       "      <td>FOE</td>\n",
       "      <td>Université Abdelmalek Essaadi</td>\n",
       "      <td>Tétouan</td>\n",
       "    </tr>\n",
       "    <tr>\n",
       "      <th>2</th>\n",
       "      <td>Faculté des Sciences Juridiques, Economiques e...</td>\n",
       "      <td>FSJES</td>\n",
       "      <td>Université Abdelmalek Essaadi</td>\n",
       "      <td>Tanger</td>\n",
       "    </tr>\n",
       "    <tr>\n",
       "      <th>3</th>\n",
       "      <td>Faculté des Sciences Juridiques, Economiques e...</td>\n",
       "      <td>FSJES</td>\n",
       "      <td>Université Abdelmalek Essaadi</td>\n",
       "      <td>Tétouan</td>\n",
       "    </tr>\n",
       "    <tr>\n",
       "      <th>4</th>\n",
       "      <td>Faculté des Lettres et des Sciences Humaines</td>\n",
       "      <td>FLSH</td>\n",
       "      <td>Université Abdelmalek Essaadi</td>\n",
       "      <td>Tétouan</td>\n",
       "    </tr>\n",
       "  </tbody>\n",
       "</table>\n",
       "</div>"
      ],
      "text/plain": [
       "                                         Affiliation Abbreviation  \\\n",
       "0                      Université Abdelmalek Essaadi          NaN   \n",
       "1                            Faculté Oussoul Eddine          FOE    \n",
       "2  Faculté des Sciences Juridiques, Economiques e...       FSJES    \n",
       "3  Faculté des Sciences Juridiques, Economiques e...       FSJES    \n",
       "4      Faculté des Lettres et des Sciences Humaines         FLSH    \n",
       "\n",
       "                      University     City  \n",
       "0  Université Abdelmalek Essaadi  Tétouan  \n",
       "1  Université Abdelmalek Essaadi  Tétouan  \n",
       "2  Université Abdelmalek Essaadi   Tanger  \n",
       "3  Université Abdelmalek Essaadi  Tétouan  \n",
       "4  Université Abdelmalek Essaadi  Tétouan  "
      ]
     },
     "execution_count": 4,
     "metadata": {},
     "output_type": "execute_result"
    }
   ],
   "source": [
    "combined_df.head()"
   ]
  },
  {
   "cell_type": "code",
   "execution_count": 6,
   "metadata": {},
   "outputs": [],
   "source": [
    "combined_df.to_csv('data/Universities-Affiliations/Moroccan-Affiliations.csv', index=False)\n"
   ]
  },
  {
   "cell_type": "code",
   "execution_count": null,
   "metadata": {},
   "outputs": [],
   "source": []
  },
  {
   "cell_type": "code",
   "execution_count": null,
   "metadata": {},
   "outputs": [],
   "source": []
  },
  {
   "cell_type": "code",
   "execution_count": null,
   "metadata": {},
   "outputs": [],
   "source": []
  }
 ],
 "metadata": {
  "kernelspec": {
   "display_name": "base",
   "language": "python",
   "name": "python3"
  },
  "language_info": {
   "codemirror_mode": {
    "name": "ipython",
    "version": 3
   },
   "file_extension": ".py",
   "mimetype": "text/x-python",
   "name": "python",
   "nbconvert_exporter": "python",
   "pygments_lexer": "ipython3",
   "version": "3.9.12"
  }
 },
 "nbformat": 4,
 "nbformat_minor": 2
}
