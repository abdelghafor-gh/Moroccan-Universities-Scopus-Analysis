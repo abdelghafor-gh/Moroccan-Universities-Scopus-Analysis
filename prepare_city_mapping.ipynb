{
 "cells": [
  {
   "cell_type": "code",
   "execution_count": 2,
   "metadata": {},
   "outputs": [],
   "source": [
    "import pandas as pd\n",
    "import re"
   ]
  },
  {
   "cell_type": "code",
   "execution_count": 3,
   "metadata": {},
   "outputs": [],
   "source": [
    "affiliations_df = pd.read_csv('data/Universities-Affiliations/Moroccan-Affiliations.csv')"
   ]
  },
  {
   "cell_type": "code",
   "execution_count": 4,
   "metadata": {},
   "outputs": [],
   "source": [
    "french_city_names = affiliations_df['City'].apply(lambda x: x.strip()).unique().tolist()"
   ]
  },
  {
   "cell_type": "code",
   "execution_count": 5,
   "metadata": {},
   "outputs": [],
   "source": [
    "english_city_names = [\n",
    "    \"Tetouan\",\n",
    "    \"Tangier\",\n",
    "    \"Larache\",\n",
    "    \"Ksar el-Kebir\",\n",
    "    \"Al Hoceima\",\n",
    "    \"Marrakesh\",\n",
    "    \"El Kelaa of Sraghna\",\n",
    "    \"Safi\",\n",
    "    \"Essaouira\",\n",
    "    \"El Jadida\",\n",
    "    \"Sidi Bennour\",\n",
    "    \"Settat\",\n",
    "    \"Berrechid\",\n",
    "    \"Casablanca\",\n",
    "    \"Mohammedia\",\n",
    "    \"Kenitra\",\n",
    "    \"Agadir\",\n",
    "    \"Ait Melloul\",\n",
    "    \"Guelmim\",\n",
    "    \"Ouarzazate\",\n",
    "    \"Taroudant\",\n",
    "    \"Smara\",\n",
    "    \"Laayoune\",\n",
    "    \"Dakhla\",\n",
    "    \"Oujda\",\n",
    "    \"Nador\",\n",
    "    \"Berkane\",\n",
    "    \"Rabat\",\n",
    "    \"Sale\",\n",
    "    \"Meknes\",\n",
    "    \"Errachidia\",\n",
    "    \"Fez\",\n",
    "    \"Taza\",\n",
    "    \"Beni Mellal\",\n",
    "    \"Khouribga\",\n",
    "    \"Khenifra\",\n",
    "    \"Fquih Ben Salah\"\n",
    "]"
   ]
  },
  {
   "cell_type": "code",
   "execution_count": 8,
   "metadata": {},
   "outputs": [],
   "source": [
    "from unidecode import unidecode\n",
    "\n",
    "cities_mapping = {}\n",
    "for city_fr in french_city_names:\n",
    "    decoded_city_fr = unidecode(city_fr)\n",
    "    # don't map correct city names\n",
    "    cities_mapping[city_fr.lower()] = city_fr\n",
    "\n",
    "    if decoded_city_fr != city_fr:\n",
    "        # map decoded city name to correct\n",
    "        cities_mapping[decoded_city_fr.lower()] = city_fr\n",
    "\n",
    "other_cities_mapping = {\n",
    "    'marrakesh': 'Marrakech',\n",
    "    'mohammadia': 'Mohammedia',\n",
    "    'tangier': 'Tanger',\n",
    "    'fez': 'Fès',\n",
    "    'fés': 'Fès',\n",
    "    'méknés': 'Meknès',\n",
    "    'meekness': 'Meknès',\n",
    "    'quarzazate': 'Ouarzazate',\n",
    "    'tetuan': 'Tétouan'\n",
    "}\n",
    "\n",
    "cities_mapping.update(other_cities_mapping)\n",
    "# cities_mapping"
   ]
  },
  {
   "cell_type": "code",
   "execution_count": 9,
   "metadata": {},
   "outputs": [
    {
     "name": "stdout",
     "output_type": "stream",
     "text": [
      "cities_mapping.json\n"
     ]
    }
   ],
   "source": [
    "import json\n",
    "\n",
    "# Save the dictionary to a JSON file\n",
    "with open('cities_mapping.json', 'w', encoding='utf-8') as json_file:\n",
    "    json.dump(cities_mapping, json_file, ensure_ascii=False, indent=4)\n",
    "\n",
    "print(\"cities_mapping.json\")"
   ]
  },
  {
   "cell_type": "code",
   "execution_count": null,
   "metadata": {},
   "outputs": [],
   "source": []
  }
 ],
 "metadata": {
  "kernelspec": {
   "display_name": ".venv",
   "language": "python",
   "name": "python3"
  },
  "language_info": {
   "codemirror_mode": {
    "name": "ipython",
    "version": 3
   },
   "file_extension": ".py",
   "mimetype": "text/x-python",
   "name": "python",
   "nbconvert_exporter": "python",
   "pygments_lexer": "ipython3",
   "version": "3.10.2"
  }
 },
 "nbformat": 4,
 "nbformat_minor": 2
}
